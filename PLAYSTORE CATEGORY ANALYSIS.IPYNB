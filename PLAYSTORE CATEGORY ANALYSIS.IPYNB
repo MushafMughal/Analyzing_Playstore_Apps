{
 "cells": [
  {
   "cell_type": "markdown",
   "metadata": {},
   "source": [
    "#### ANALYZING POPULAS APP CATRGORY OF GOOGLE PLAYSTORE\n",
    "This project aims to provide insights into the Google Play Store dataset to assist companies in making informed decisions about app development and market entry strategies. The dataset encompasses a wide range of information about various apps available on the Google Play Store, including their categories, ratings, reviews, and download statistics."
   ]
  },
  {
   "cell_type": "code",
   "execution_count": 2,
   "metadata": {},
   "outputs": [],
   "source": [
    "import pandas as pd\n",
    "import matplotlib.pyplot as plt"
   ]
  },
  {
   "cell_type": "code",
   "execution_count": 3,
   "metadata": {},
   "outputs": [
    {
     "data": {
      "text/html": [
       "<div>\n",
       "<style scoped>\n",
       "    .dataframe tbody tr th:only-of-type {\n",
       "        vertical-align: middle;\n",
       "    }\n",
       "\n",
       "    .dataframe tbody tr th {\n",
       "        vertical-align: top;\n",
       "    }\n",
       "\n",
       "    .dataframe thead th {\n",
       "        text-align: right;\n",
       "    }\n",
       "</style>\n",
       "<table border=\"1\" class=\"dataframe\">\n",
       "  <thead>\n",
       "    <tr style=\"text-align: right;\">\n",
       "      <th></th>\n",
       "      <th>App</th>\n",
       "      <th>Category</th>\n",
       "      <th>Rating</th>\n",
       "      <th>Reviews</th>\n",
       "      <th>Size</th>\n",
       "      <th>Installs</th>\n",
       "      <th>Type</th>\n",
       "      <th>Price</th>\n",
       "      <th>Content Rating</th>\n",
       "      <th>Genres</th>\n",
       "      <th>Last Updated</th>\n",
       "      <th>Current Ver</th>\n",
       "      <th>Android Ver</th>\n",
       "    </tr>\n",
       "  </thead>\n",
       "  <tbody>\n",
       "    <tr>\n",
       "      <th>0</th>\n",
       "      <td>Photo Editor &amp; Candy Camera &amp; Grid &amp; ScrapBook</td>\n",
       "      <td>ART_AND_DESIGN</td>\n",
       "      <td>4.1</td>\n",
       "      <td>159</td>\n",
       "      <td>19M</td>\n",
       "      <td>10,000+</td>\n",
       "      <td>Free</td>\n",
       "      <td>0</td>\n",
       "      <td>Everyone</td>\n",
       "      <td>Art &amp; Design</td>\n",
       "      <td>January 7, 2018</td>\n",
       "      <td>1.0.0</td>\n",
       "      <td>4.0.3 and up</td>\n",
       "    </tr>\n",
       "    <tr>\n",
       "      <th>1</th>\n",
       "      <td>Coloring book moana</td>\n",
       "      <td>ART_AND_DESIGN</td>\n",
       "      <td>3.9</td>\n",
       "      <td>967</td>\n",
       "      <td>14M</td>\n",
       "      <td>500,000+</td>\n",
       "      <td>Free</td>\n",
       "      <td>0</td>\n",
       "      <td>Everyone</td>\n",
       "      <td>Art &amp; Design;Pretend Play</td>\n",
       "      <td>January 15, 2018</td>\n",
       "      <td>2.0.0</td>\n",
       "      <td>4.0.3 and up</td>\n",
       "    </tr>\n",
       "    <tr>\n",
       "      <th>2</th>\n",
       "      <td>U Launcher Lite – FREE Live Cool Themes, Hide ...</td>\n",
       "      <td>ART_AND_DESIGN</td>\n",
       "      <td>4.7</td>\n",
       "      <td>87510</td>\n",
       "      <td>8.7M</td>\n",
       "      <td>5,000,000+</td>\n",
       "      <td>Free</td>\n",
       "      <td>0</td>\n",
       "      <td>Everyone</td>\n",
       "      <td>Art &amp; Design</td>\n",
       "      <td>August 1, 2018</td>\n",
       "      <td>1.2.4</td>\n",
       "      <td>4.0.3 and up</td>\n",
       "    </tr>\n",
       "    <tr>\n",
       "      <th>3</th>\n",
       "      <td>Sketch - Draw &amp; Paint</td>\n",
       "      <td>ART_AND_DESIGN</td>\n",
       "      <td>4.5</td>\n",
       "      <td>215644</td>\n",
       "      <td>25M</td>\n",
       "      <td>50,000,000+</td>\n",
       "      <td>Free</td>\n",
       "      <td>0</td>\n",
       "      <td>Teen</td>\n",
       "      <td>Art &amp; Design</td>\n",
       "      <td>June 8, 2018</td>\n",
       "      <td>Varies with device</td>\n",
       "      <td>4.2 and up</td>\n",
       "    </tr>\n",
       "    <tr>\n",
       "      <th>4</th>\n",
       "      <td>Pixel Draw - Number Art Coloring Book</td>\n",
       "      <td>ART_AND_DESIGN</td>\n",
       "      <td>4.3</td>\n",
       "      <td>967</td>\n",
       "      <td>2.8M</td>\n",
       "      <td>100,000+</td>\n",
       "      <td>Free</td>\n",
       "      <td>0</td>\n",
       "      <td>Everyone</td>\n",
       "      <td>Art &amp; Design;Creativity</td>\n",
       "      <td>June 20, 2018</td>\n",
       "      <td>1.1</td>\n",
       "      <td>4.4 and up</td>\n",
       "    </tr>\n",
       "  </tbody>\n",
       "</table>\n",
       "</div>"
      ],
      "text/plain": [
       "                                                 App        Category  Rating   \n",
       "0     Photo Editor & Candy Camera & Grid & ScrapBook  ART_AND_DESIGN     4.1  \\\n",
       "1                                Coloring book moana  ART_AND_DESIGN     3.9   \n",
       "2  U Launcher Lite – FREE Live Cool Themes, Hide ...  ART_AND_DESIGN     4.7   \n",
       "3                              Sketch - Draw & Paint  ART_AND_DESIGN     4.5   \n",
       "4              Pixel Draw - Number Art Coloring Book  ART_AND_DESIGN     4.3   \n",
       "\n",
       "  Reviews  Size     Installs  Type Price Content Rating   \n",
       "0     159   19M      10,000+  Free     0       Everyone  \\\n",
       "1     967   14M     500,000+  Free     0       Everyone   \n",
       "2   87510  8.7M   5,000,000+  Free     0       Everyone   \n",
       "3  215644   25M  50,000,000+  Free     0           Teen   \n",
       "4     967  2.8M     100,000+  Free     0       Everyone   \n",
       "\n",
       "                      Genres      Last Updated         Current Ver   \n",
       "0               Art & Design   January 7, 2018               1.0.0  \\\n",
       "1  Art & Design;Pretend Play  January 15, 2018               2.0.0   \n",
       "2               Art & Design    August 1, 2018               1.2.4   \n",
       "3               Art & Design      June 8, 2018  Varies with device   \n",
       "4    Art & Design;Creativity     June 20, 2018                 1.1   \n",
       "\n",
       "    Android Ver  \n",
       "0  4.0.3 and up  \n",
       "1  4.0.3 and up  \n",
       "2  4.0.3 and up  \n",
       "3    4.2 and up  \n",
       "4    4.4 and up  "
      ]
     },
     "execution_count": 3,
     "metadata": {},
     "output_type": "execute_result"
    }
   ],
   "source": [
    "android_df = pd.read_csv('googleplaystore.csv')\n",
    "android_df.head()"
   ]
  },
  {
   "cell_type": "markdown",
   "metadata": {},
   "source": [
    "## Correction CATEGORY Column"
   ]
  },
  {
   "cell_type": "code",
   "execution_count": 4,
   "metadata": {},
   "outputs": [
    {
     "data": {
      "text/plain": [
       "Category\n",
       "FAMILY                 1972\n",
       "GAME                   1144\n",
       "TOOLS                   843\n",
       "MEDICAL                 463\n",
       "BUSINESS                460\n",
       "PRODUCTIVITY            424\n",
       "PERSONALIZATION         392\n",
       "COMMUNICATION           387\n",
       "SPORTS                  384\n",
       "LIFESTYLE               382\n",
       "FINANCE                 366\n",
       "HEALTH_AND_FITNESS      341\n",
       "PHOTOGRAPHY             335\n",
       "SOCIAL                  295\n",
       "NEWS_AND_MAGAZINES      283\n",
       "SHOPPING                260\n",
       "TRAVEL_AND_LOCAL        258\n",
       "DATING                  234\n",
       "BOOKS_AND_REFERENCE     231\n",
       "VIDEO_PLAYERS           175\n",
       "EDUCATION               156\n",
       "ENTERTAINMENT           149\n",
       "MAPS_AND_NAVIGATION     137\n",
       "FOOD_AND_DRINK          127\n",
       "HOUSE_AND_HOME           88\n",
       "LIBRARIES_AND_DEMO       85\n",
       "AUTO_AND_VEHICLES        85\n",
       "WEATHER                  82\n",
       "ART_AND_DESIGN           65\n",
       "EVENTS                   64\n",
       "PARENTING                60\n",
       "COMICS                   60\n",
       "BEAUTY                   53\n",
       "1.9                       1\n",
       "Name: count, dtype: int64"
      ]
     },
     "execution_count": 4,
     "metadata": {},
     "output_type": "execute_result"
    }
   ],
   "source": [
    "android_df[\"Category\"].value_counts()"
   ]
  },
  {
   "cell_type": "code",
   "execution_count": 5,
   "metadata": {},
   "outputs": [
    {
     "data": {
      "text/plain": [
       "array([['Life Made WI-Fi Touchscreen Photo Frame', '1.9', 19.0, '3.0M',\n",
       "        '1,000+', 'Free', '0', 'Everyone', nan, 'February 11, 2018',\n",
       "        '1.0.19', '4.0 and up', nan]], dtype=object)"
      ]
     },
     "execution_count": 5,
     "metadata": {},
     "output_type": "execute_result"
    }
   ],
   "source": [
    "android_df[android_df[\"Category\"] == '1.9'].values"
   ]
  },
  {
   "cell_type": "code",
   "execution_count": 6,
   "metadata": {},
   "outputs": [],
   "source": [
    "correct_list = ['Life Made WI-Fi Touchscreen Photo Frame', 'LIFESTYLE', '1.9', 19.0, '3.0M','1,000+', 'Free', '0', 'Everyone','LIFESTYLE','February 11, 2018',\n",
    "        '1.0.19', '4.0 and up']\n",
    "android_df[android_df[\"Category\"] == '1.9'] = correct_list"
   ]
  },
  {
   "cell_type": "code",
   "execution_count": 7,
   "metadata": {},
   "outputs": [
    {
     "data": {
      "text/plain": [
       "Category\n",
       "FAMILY                 1972\n",
       "GAME                   1144\n",
       "TOOLS                   843\n",
       "MEDICAL                 463\n",
       "BUSINESS                460\n",
       "PRODUCTIVITY            424\n",
       "PERSONALIZATION         392\n",
       "COMMUNICATION           387\n",
       "SPORTS                  384\n",
       "LIFESTYLE               383\n",
       "FINANCE                 366\n",
       "HEALTH_AND_FITNESS      341\n",
       "PHOTOGRAPHY             335\n",
       "SOCIAL                  295\n",
       "NEWS_AND_MAGAZINES      283\n",
       "SHOPPING                260\n",
       "TRAVEL_AND_LOCAL        258\n",
       "DATING                  234\n",
       "BOOKS_AND_REFERENCE     231\n",
       "VIDEO_PLAYERS           175\n",
       "EDUCATION               156\n",
       "ENTERTAINMENT           149\n",
       "MAPS_AND_NAVIGATION     137\n",
       "FOOD_AND_DRINK          127\n",
       "HOUSE_AND_HOME           88\n",
       "AUTO_AND_VEHICLES        85\n",
       "LIBRARIES_AND_DEMO       85\n",
       "WEATHER                  82\n",
       "ART_AND_DESIGN           65\n",
       "EVENTS                   64\n",
       "PARENTING                60\n",
       "COMICS                   60\n",
       "BEAUTY                   53\n",
       "Name: count, dtype: int64"
      ]
     },
     "execution_count": 7,
     "metadata": {},
     "output_type": "execute_result"
    }
   ],
   "source": [
    "android_df[\"Category\"].value_counts()"
   ]
  },
  {
   "cell_type": "markdown",
   "metadata": {},
   "source": [
    "## Checking DUBLICATE Application's Data"
   ]
  },
  {
   "cell_type": "code",
   "execution_count": 8,
   "metadata": {},
   "outputs": [
    {
     "data": {
      "text/plain": [
       "App\n",
       "ROBLOX                                               9\n",
       "CBS Sports App - Scores, News, Stats & Watch Live    8\n",
       "ESPN                                                 7\n",
       "Duolingo: Learn Languages Free                       7\n",
       "Candy Crush Saga                                     7\n",
       "                                                    ..\n",
       "Transenger – Ts Dating and Chat for Free             2\n",
       "Random Video Chat                                    2\n",
       "Clover Dating App                                    2\n",
       "Docs To Go™ Free Office Suite                        2\n",
       "English Dictionary - Offline                         2\n",
       "Name: count, Length: 798, dtype: int64"
      ]
     },
     "execution_count": 8,
     "metadata": {},
     "output_type": "execute_result"
    }
   ],
   "source": [
    "app_count = android_df[\"App\"].value_counts()\n",
    "app_count[app_count>1]  #Checking if an APP have more than 1 data"
   ]
  },
  {
   "cell_type": "code",
   "execution_count": 9,
   "metadata": {},
   "outputs": [
    {
     "name": "stdout",
     "output_type": "stream",
     "text": [
      "True\n"
     ]
    },
    {
     "data": {
      "text/html": [
       "<div>\n",
       "<style scoped>\n",
       "    .dataframe tbody tr th:only-of-type {\n",
       "        vertical-align: middle;\n",
       "    }\n",
       "\n",
       "    .dataframe tbody tr th {\n",
       "        vertical-align: top;\n",
       "    }\n",
       "\n",
       "    .dataframe thead th {\n",
       "        text-align: right;\n",
       "    }\n",
       "</style>\n",
       "<table border=\"1\" class=\"dataframe\">\n",
       "  <thead>\n",
       "    <tr style=\"text-align: right;\">\n",
       "      <th></th>\n",
       "      <th>App</th>\n",
       "      <th>Category</th>\n",
       "      <th>Rating</th>\n",
       "      <th>Reviews</th>\n",
       "      <th>Size</th>\n",
       "      <th>Installs</th>\n",
       "      <th>Type</th>\n",
       "      <th>Price</th>\n",
       "      <th>Content Rating</th>\n",
       "      <th>Genres</th>\n",
       "      <th>Last Updated</th>\n",
       "      <th>Current Ver</th>\n",
       "      <th>Android Ver</th>\n",
       "    </tr>\n",
       "  </thead>\n",
       "  <tbody>\n",
       "    <tr>\n",
       "      <th>2545</th>\n",
       "      <td>Instagram</td>\n",
       "      <td>SOCIAL</td>\n",
       "      <td>4.5</td>\n",
       "      <td>66577313</td>\n",
       "      <td>Varies with device</td>\n",
       "      <td>1,000,000,000+</td>\n",
       "      <td>Free</td>\n",
       "      <td>0</td>\n",
       "      <td>Teen</td>\n",
       "      <td>Social</td>\n",
       "      <td>July 31, 2018</td>\n",
       "      <td>Varies with device</td>\n",
       "      <td>Varies with device</td>\n",
       "    </tr>\n",
       "    <tr>\n",
       "      <th>2604</th>\n",
       "      <td>Instagram</td>\n",
       "      <td>SOCIAL</td>\n",
       "      <td>4.5</td>\n",
       "      <td>66577446</td>\n",
       "      <td>Varies with device</td>\n",
       "      <td>1,000,000,000+</td>\n",
       "      <td>Free</td>\n",
       "      <td>0</td>\n",
       "      <td>Teen</td>\n",
       "      <td>Social</td>\n",
       "      <td>July 31, 2018</td>\n",
       "      <td>Varies with device</td>\n",
       "      <td>Varies with device</td>\n",
       "    </tr>\n",
       "    <tr>\n",
       "      <th>2611</th>\n",
       "      <td>Instagram</td>\n",
       "      <td>SOCIAL</td>\n",
       "      <td>4.5</td>\n",
       "      <td>66577313</td>\n",
       "      <td>Varies with device</td>\n",
       "      <td>1,000,000,000+</td>\n",
       "      <td>Free</td>\n",
       "      <td>0</td>\n",
       "      <td>Teen</td>\n",
       "      <td>Social</td>\n",
       "      <td>July 31, 2018</td>\n",
       "      <td>Varies with device</td>\n",
       "      <td>Varies with device</td>\n",
       "    </tr>\n",
       "    <tr>\n",
       "      <th>3909</th>\n",
       "      <td>Instagram</td>\n",
       "      <td>SOCIAL</td>\n",
       "      <td>4.5</td>\n",
       "      <td>66509917</td>\n",
       "      <td>Varies with device</td>\n",
       "      <td>1,000,000,000+</td>\n",
       "      <td>Free</td>\n",
       "      <td>0</td>\n",
       "      <td>Teen</td>\n",
       "      <td>Social</td>\n",
       "      <td>July 31, 2018</td>\n",
       "      <td>Varies with device</td>\n",
       "      <td>Varies with device</td>\n",
       "    </tr>\n",
       "  </tbody>\n",
       "</table>\n",
       "</div>"
      ],
      "text/plain": [
       "            App Category Rating   Reviews                Size        Installs   \n",
       "2545  Instagram   SOCIAL    4.5  66577313  Varies with device  1,000,000,000+  \\\n",
       "2604  Instagram   SOCIAL    4.5  66577446  Varies with device  1,000,000,000+   \n",
       "2611  Instagram   SOCIAL    4.5  66577313  Varies with device  1,000,000,000+   \n",
       "3909  Instagram   SOCIAL    4.5  66509917  Varies with device  1,000,000,000+   \n",
       "\n",
       "      Type Price Content Rating  Genres   Last Updated         Current Ver   \n",
       "2545  Free     0           Teen  Social  July 31, 2018  Varies with device  \\\n",
       "2604  Free     0           Teen  Social  July 31, 2018  Varies with device   \n",
       "2611  Free     0           Teen  Social  July 31, 2018  Varies with device   \n",
       "3909  Free     0           Teen  Social  July 31, 2018  Varies with device   \n",
       "\n",
       "             Android Ver  \n",
       "2545  Varies with device  \n",
       "2604  Varies with device  \n",
       "2611  Varies with device  \n",
       "3909  Varies with device  "
      ]
     },
     "execution_count": 9,
     "metadata": {},
     "output_type": "execute_result"
    }
   ],
   "source": [
    "#Checking if instagram have dublicate data\n",
    "print(\"Instagram\" in app_count[app_count>1])\n",
    "android_df[android_df[ \"App\"] == \"Instagram\"]"
   ]
  },
  {
   "cell_type": "code",
   "execution_count": 10,
   "metadata": {},
   "outputs": [
    {
     "data": {
      "text/html": [
       "<div>\n",
       "<style scoped>\n",
       "    .dataframe tbody tr th:only-of-type {\n",
       "        vertical-align: middle;\n",
       "    }\n",
       "\n",
       "    .dataframe tbody tr th {\n",
       "        vertical-align: top;\n",
       "    }\n",
       "\n",
       "    .dataframe thead th {\n",
       "        text-align: right;\n",
       "    }\n",
       "</style>\n",
       "<table border=\"1\" class=\"dataframe\">\n",
       "  <thead>\n",
       "    <tr style=\"text-align: right;\">\n",
       "      <th></th>\n",
       "      <th>App</th>\n",
       "      <th>Category</th>\n",
       "      <th>Rating</th>\n",
       "      <th>Reviews</th>\n",
       "      <th>Size</th>\n",
       "      <th>Installs</th>\n",
       "      <th>Type</th>\n",
       "      <th>Price</th>\n",
       "      <th>Content Rating</th>\n",
       "      <th>Genres</th>\n",
       "      <th>Last Updated</th>\n",
       "      <th>Current Ver</th>\n",
       "      <th>Android Ver</th>\n",
       "    </tr>\n",
       "  </thead>\n",
       "  <tbody>\n",
       "    <tr>\n",
       "      <th>2545</th>\n",
       "      <td>Instagram</td>\n",
       "      <td>SOCIAL</td>\n",
       "      <td>4.5</td>\n",
       "      <td>66577313</td>\n",
       "      <td>Varies with device</td>\n",
       "      <td>1,000,000,000+</td>\n",
       "      <td>Free</td>\n",
       "      <td>0</td>\n",
       "      <td>Teen</td>\n",
       "      <td>Social</td>\n",
       "      <td>July 31, 2018</td>\n",
       "      <td>Varies with device</td>\n",
       "      <td>Varies with device</td>\n",
       "    </tr>\n",
       "    <tr>\n",
       "      <th>2604</th>\n",
       "      <td>Instagram</td>\n",
       "      <td>SOCIAL</td>\n",
       "      <td>4.5</td>\n",
       "      <td>66577446</td>\n",
       "      <td>Varies with device</td>\n",
       "      <td>1,000,000,000+</td>\n",
       "      <td>Free</td>\n",
       "      <td>0</td>\n",
       "      <td>Teen</td>\n",
       "      <td>Social</td>\n",
       "      <td>July 31, 2018</td>\n",
       "      <td>Varies with device</td>\n",
       "      <td>Varies with device</td>\n",
       "    </tr>\n",
       "    <tr>\n",
       "      <th>2611</th>\n",
       "      <td>Instagram</td>\n",
       "      <td>SOCIAL</td>\n",
       "      <td>4.5</td>\n",
       "      <td>66577313</td>\n",
       "      <td>Varies with device</td>\n",
       "      <td>1,000,000,000+</td>\n",
       "      <td>Free</td>\n",
       "      <td>0</td>\n",
       "      <td>Teen</td>\n",
       "      <td>Social</td>\n",
       "      <td>July 31, 2018</td>\n",
       "      <td>Varies with device</td>\n",
       "      <td>Varies with device</td>\n",
       "    </tr>\n",
       "    <tr>\n",
       "      <th>3909</th>\n",
       "      <td>Instagram</td>\n",
       "      <td>SOCIAL</td>\n",
       "      <td>4.5</td>\n",
       "      <td>66509917</td>\n",
       "      <td>Varies with device</td>\n",
       "      <td>1,000,000,000+</td>\n",
       "      <td>Free</td>\n",
       "      <td>0</td>\n",
       "      <td>Teen</td>\n",
       "      <td>Social</td>\n",
       "      <td>July 31, 2018</td>\n",
       "      <td>Varies with device</td>\n",
       "      <td>Varies with device</td>\n",
       "    </tr>\n",
       "  </tbody>\n",
       "</table>\n",
       "</div>"
      ],
      "text/plain": [
       "            App Category Rating   Reviews                Size        Installs   \n",
       "2545  Instagram   SOCIAL    4.5  66577313  Varies with device  1,000,000,000+  \\\n",
       "2604  Instagram   SOCIAL    4.5  66577446  Varies with device  1,000,000,000+   \n",
       "2611  Instagram   SOCIAL    4.5  66577313  Varies with device  1,000,000,000+   \n",
       "3909  Instagram   SOCIAL    4.5  66509917  Varies with device  1,000,000,000+   \n",
       "\n",
       "      Type Price Content Rating  Genres   Last Updated         Current Ver   \n",
       "2545  Free     0           Teen  Social  July 31, 2018  Varies with device  \\\n",
       "2604  Free     0           Teen  Social  July 31, 2018  Varies with device   \n",
       "2611  Free     0           Teen  Social  July 31, 2018  Varies with device   \n",
       "3909  Free     0           Teen  Social  July 31, 2018  Varies with device   \n",
       "\n",
       "             Android Ver  \n",
       "2545  Varies with device  \n",
       "2604  Varies with device  \n",
       "2611  Varies with device  \n",
       "3909  Varies with device  "
      ]
     },
     "execution_count": 10,
     "metadata": {},
     "output_type": "execute_result"
    }
   ],
   "source": [
    "duplicate_apps_df = android_df[android_df.duplicated(subset = ['App'], keep=False)] #keep values can be [False,First,Last]\n",
    "duplicate_apps_df[duplicate_apps_df[\"App\"] == \"Instagram\"]"
   ]
  },
  {
   "cell_type": "code",
   "execution_count": 11,
   "metadata": {},
   "outputs": [
    {
     "data": {
      "text/plain": [
       "798"
      ]
     },
     "execution_count": 11,
     "metadata": {},
     "output_type": "execute_result"
    }
   ],
   "source": [
    "#No. of Application having Dublicate Data\n",
    "duplicate_apps_df['App'].nunique()\n"
   ]
  },
  {
   "cell_type": "code",
   "execution_count": 12,
   "metadata": {},
   "outputs": [
    {
     "name": "stdout",
     "output_type": "stream",
     "text": [
      "1979\n",
      "10841\n"
     ]
    }
   ],
   "source": [
    "print(duplicate_apps_df.shape[0])\n",
    "print(android_df.shape[0])"
   ]
  },
  {
   "cell_type": "markdown",
   "metadata": {},
   "source": [
    "##### As evident from the dataset, random removal of rows is not feasible due to our standard practice of preserving recent data. Notably, upon examination of the review column, it becomes apparent that the most significant values correspond to recent data entries. Consequently, our methodology prioritizes the retention of these rows while eliminating any surplus entries."
   ]
  },
  {
   "cell_type": "code",
   "execution_count": 13,
   "metadata": {},
   "outputs": [
    {
     "data": {
      "text/plain": [
       "'66577446'"
      ]
     },
     "execution_count": 13,
     "metadata": {},
     "output_type": "execute_result"
    }
   ],
   "source": [
    "grouped = android_df.groupby('App')\n",
    "maximum_reviews = grouped['Reviews'].max()\n",
    "maximum_reviews['Instagram']"
   ]
  },
  {
   "cell_type": "code",
   "execution_count": 14,
   "metadata": {},
   "outputs": [
    {
     "data": {
      "text/plain": [
       "9660"
      ]
     },
     "execution_count": 14,
     "metadata": {},
     "output_type": "execute_result"
    }
   ],
   "source": [
    "maximum_reviews.shape[0]"
   ]
  },
  {
   "cell_type": "markdown",
   "metadata": {},
   "source": [
    "##### Now with this we are getting the maximum reviews of All the application. Now we can remove the dublicate data and make new DF."
   ]
  },
  {
   "cell_type": "code",
   "execution_count": 15,
   "metadata": {},
   "outputs": [],
   "source": [
    "# Create an empty List to store cleaned data\n",
    "android_clean = []\n",
    "#Create an empty list to keep track of already added apps\n",
    "already_added = []\n",
    "# Iterate through each row in the DataFrame\n",
    "for index, row in android_df.iterrows():\n",
    "    name = row['App']\n",
    "    n_reviews = row[\"Reviews\"]\n",
    "    # Check if the current app has the maximum number of reviews and has not been added before\n",
    "    if (maximum_reviews[name] == n_reviews) and (name not in already_added):\n",
    "        android_clean.append(row) # Add the app to the cleaned list\n",
    "        already_added.append(name) # Add the app name to the List of already added apps"
   ]
  },
  {
   "cell_type": "code",
   "execution_count": 16,
   "metadata": {},
   "outputs": [],
   "source": [
    "df = pd.DataFrame(android_clean)"
   ]
  },
  {
   "cell_type": "code",
   "execution_count": 17,
   "metadata": {},
   "outputs": [
    {
     "data": {
      "text/html": [
       "<div>\n",
       "<style scoped>\n",
       "    .dataframe tbody tr th:only-of-type {\n",
       "        vertical-align: middle;\n",
       "    }\n",
       "\n",
       "    .dataframe tbody tr th {\n",
       "        vertical-align: top;\n",
       "    }\n",
       "\n",
       "    .dataframe thead th {\n",
       "        text-align: right;\n",
       "    }\n",
       "</style>\n",
       "<table border=\"1\" class=\"dataframe\">\n",
       "  <thead>\n",
       "    <tr style=\"text-align: right;\">\n",
       "      <th></th>\n",
       "      <th>App</th>\n",
       "      <th>Category</th>\n",
       "      <th>Rating</th>\n",
       "      <th>Reviews</th>\n",
       "      <th>Size</th>\n",
       "      <th>Installs</th>\n",
       "      <th>Type</th>\n",
       "      <th>Price</th>\n",
       "      <th>Content Rating</th>\n",
       "      <th>Genres</th>\n",
       "      <th>Last Updated</th>\n",
       "      <th>Current Ver</th>\n",
       "      <th>Android Ver</th>\n",
       "    </tr>\n",
       "  </thead>\n",
       "  <tbody>\n",
       "    <tr>\n",
       "      <th>2604</th>\n",
       "      <td>Instagram</td>\n",
       "      <td>SOCIAL</td>\n",
       "      <td>4.5</td>\n",
       "      <td>66577446</td>\n",
       "      <td>Varies with device</td>\n",
       "      <td>1,000,000,000+</td>\n",
       "      <td>Free</td>\n",
       "      <td>0</td>\n",
       "      <td>Teen</td>\n",
       "      <td>Social</td>\n",
       "      <td>July 31, 2018</td>\n",
       "      <td>Varies with device</td>\n",
       "      <td>Varies with device</td>\n",
       "    </tr>\n",
       "  </tbody>\n",
       "</table>\n",
       "</div>"
      ],
      "text/plain": [
       "            App Category Rating   Reviews                Size        Installs   \n",
       "2604  Instagram   SOCIAL    4.5  66577446  Varies with device  1,000,000,000+  \\\n",
       "\n",
       "      Type Price Content Rating  Genres   Last Updated         Current Ver   \n",
       "2604  Free     0           Teen  Social  July 31, 2018  Varies with device  \\\n",
       "\n",
       "             Android Ver  \n",
       "2604  Varies with device  "
      ]
     },
     "execution_count": 17,
     "metadata": {},
     "output_type": "execute_result"
    }
   ],
   "source": [
    "#Checking if DF have dublicate data\n",
    "df[df['App'] == 'Instagram']"
   ]
  },
  {
   "cell_type": "code",
   "execution_count": 18,
   "metadata": {},
   "outputs": [
    {
     "data": {
      "text/plain": [
       "(9660, 13)"
      ]
     },
     "execution_count": 18,
     "metadata": {},
     "output_type": "execute_result"
    }
   ],
   "source": [
    "df.shape"
   ]
  },
  {
   "cell_type": "markdown",
   "metadata": {},
   "source": [
    "### Removing Non-English Application's Data from DF"
   ]
  },
  {
   "cell_type": "code",
   "execution_count": 19,
   "metadata": {},
   "outputs": [],
   "source": [
    "def is_english(app_name):\n",
    "    lst = []\n",
    "    for i in app_name:\n",
    "        if ord(i) > 127:\n",
    "            lst.append(False)\n",
    "        else:\n",
    "            lst.append(True)\n",
    "            \n",
    "    non_ascii=0\n",
    "    for j in lst:\n",
    "        if j == False:\n",
    "            non_ascii += 1\n",
    "    \n",
    "    if non_ascii > 3:\n",
    "        return False\n",
    "    else:\n",
    "        return True"
   ]
  },
  {
   "cell_type": "code",
   "execution_count": 20,
   "metadata": {},
   "outputs": [
    {
     "data": {
      "text/plain": [
       "(9615, 13)"
      ]
     },
     "execution_count": 20,
     "metadata": {},
     "output_type": "execute_result"
    }
   ],
   "source": [
    "android_english = df[df['App'].apply(is_english)]\n",
    "android_english.shape"
   ]
  },
  {
   "cell_type": "markdown",
   "metadata": {},
   "source": [
    "### Removing PAID Application's Data from DF"
   ]
  },
  {
   "cell_type": "code",
   "execution_count": 21,
   "metadata": {},
   "outputs": [
    {
     "name": "stdout",
     "output_type": "stream",
     "text": [
      "Total rows: 8863\n"
     ]
    },
    {
     "data": {
      "text/html": [
       "<div>\n",
       "<style scoped>\n",
       "    .dataframe tbody tr th:only-of-type {\n",
       "        vertical-align: middle;\n",
       "    }\n",
       "\n",
       "    .dataframe tbody tr th {\n",
       "        vertical-align: top;\n",
       "    }\n",
       "\n",
       "    .dataframe thead th {\n",
       "        text-align: right;\n",
       "    }\n",
       "</style>\n",
       "<table border=\"1\" class=\"dataframe\">\n",
       "  <thead>\n",
       "    <tr style=\"text-align: right;\">\n",
       "      <th></th>\n",
       "      <th>App</th>\n",
       "      <th>Category</th>\n",
       "      <th>Rating</th>\n",
       "      <th>Reviews</th>\n",
       "      <th>Size</th>\n",
       "      <th>Installs</th>\n",
       "      <th>Type</th>\n",
       "      <th>Price</th>\n",
       "      <th>Content Rating</th>\n",
       "      <th>Genres</th>\n",
       "      <th>Last Updated</th>\n",
       "      <th>Current Ver</th>\n",
       "      <th>Android Ver</th>\n",
       "    </tr>\n",
       "  </thead>\n",
       "  <tbody>\n",
       "    <tr>\n",
       "      <th>0</th>\n",
       "      <td>Photo Editor &amp; Candy Camera &amp; Grid &amp; ScrapBook</td>\n",
       "      <td>ART_AND_DESIGN</td>\n",
       "      <td>4.1</td>\n",
       "      <td>159</td>\n",
       "      <td>19M</td>\n",
       "      <td>10,000+</td>\n",
       "      <td>Free</td>\n",
       "      <td>0</td>\n",
       "      <td>Everyone</td>\n",
       "      <td>Art &amp; Design</td>\n",
       "      <td>January 7, 2018</td>\n",
       "      <td>1.0.0</td>\n",
       "      <td>4.0.3 and up</td>\n",
       "    </tr>\n",
       "    <tr>\n",
       "      <th>2</th>\n",
       "      <td>U Launcher Lite – FREE Live Cool Themes, Hide ...</td>\n",
       "      <td>ART_AND_DESIGN</td>\n",
       "      <td>4.7</td>\n",
       "      <td>87510</td>\n",
       "      <td>8.7M</td>\n",
       "      <td>5,000,000+</td>\n",
       "      <td>Free</td>\n",
       "      <td>0</td>\n",
       "      <td>Everyone</td>\n",
       "      <td>Art &amp; Design</td>\n",
       "      <td>August 1, 2018</td>\n",
       "      <td>1.2.4</td>\n",
       "      <td>4.0.3 and up</td>\n",
       "    </tr>\n",
       "    <tr>\n",
       "      <th>3</th>\n",
       "      <td>Sketch - Draw &amp; Paint</td>\n",
       "      <td>ART_AND_DESIGN</td>\n",
       "      <td>4.5</td>\n",
       "      <td>215644</td>\n",
       "      <td>25M</td>\n",
       "      <td>50,000,000+</td>\n",
       "      <td>Free</td>\n",
       "      <td>0</td>\n",
       "      <td>Teen</td>\n",
       "      <td>Art &amp; Design</td>\n",
       "      <td>June 8, 2018</td>\n",
       "      <td>Varies with device</td>\n",
       "      <td>4.2 and up</td>\n",
       "    </tr>\n",
       "    <tr>\n",
       "      <th>4</th>\n",
       "      <td>Pixel Draw - Number Art Coloring Book</td>\n",
       "      <td>ART_AND_DESIGN</td>\n",
       "      <td>4.3</td>\n",
       "      <td>967</td>\n",
       "      <td>2.8M</td>\n",
       "      <td>100,000+</td>\n",
       "      <td>Free</td>\n",
       "      <td>0</td>\n",
       "      <td>Everyone</td>\n",
       "      <td>Art &amp; Design;Creativity</td>\n",
       "      <td>June 20, 2018</td>\n",
       "      <td>1.1</td>\n",
       "      <td>4.4 and up</td>\n",
       "    </tr>\n",
       "    <tr>\n",
       "      <th>5</th>\n",
       "      <td>Paper flowers instructions</td>\n",
       "      <td>ART_AND_DESIGN</td>\n",
       "      <td>4.4</td>\n",
       "      <td>167</td>\n",
       "      <td>5.6M</td>\n",
       "      <td>50,000+</td>\n",
       "      <td>Free</td>\n",
       "      <td>0</td>\n",
       "      <td>Everyone</td>\n",
       "      <td>Art &amp; Design</td>\n",
       "      <td>March 26, 2017</td>\n",
       "      <td>1.0</td>\n",
       "      <td>2.3 and up</td>\n",
       "    </tr>\n",
       "  </tbody>\n",
       "</table>\n",
       "</div>"
      ],
      "text/plain": [
       "                                                 App        Category Rating   \n",
       "0     Photo Editor & Candy Camera & Grid & ScrapBook  ART_AND_DESIGN    4.1  \\\n",
       "2  U Launcher Lite – FREE Live Cool Themes, Hide ...  ART_AND_DESIGN    4.7   \n",
       "3                              Sketch - Draw & Paint  ART_AND_DESIGN    4.5   \n",
       "4              Pixel Draw - Number Art Coloring Book  ART_AND_DESIGN    4.3   \n",
       "5                         Paper flowers instructions  ART_AND_DESIGN    4.4   \n",
       "\n",
       "  Reviews  Size     Installs  Type Price Content Rating   \n",
       "0     159   19M      10,000+  Free     0       Everyone  \\\n",
       "2   87510  8.7M   5,000,000+  Free     0       Everyone   \n",
       "3  215644   25M  50,000,000+  Free     0           Teen   \n",
       "4     967  2.8M     100,000+  Free     0       Everyone   \n",
       "5     167  5.6M      50,000+  Free     0       Everyone   \n",
       "\n",
       "                    Genres     Last Updated         Current Ver   Android Ver  \n",
       "0             Art & Design  January 7, 2018               1.0.0  4.0.3 and up  \n",
       "2             Art & Design   August 1, 2018               1.2.4  4.0.3 and up  \n",
       "3             Art & Design     June 8, 2018  Varies with device    4.2 and up  \n",
       "4  Art & Design;Creativity    June 20, 2018                 1.1    4.4 and up  \n",
       "5             Art & Design   March 26, 2017                 1.0    2.3 and up  "
      ]
     },
     "execution_count": 21,
     "metadata": {},
     "output_type": "execute_result"
    }
   ],
   "source": [
    "final_df = android_english[android_english[\"Price\"] == \"0\"]\n",
    "print('Total rows:',final_df.shape[0])\n",
    "final_df.head()"
   ]
  },
  {
   "cell_type": "markdown",
   "metadata": {},
   "source": [
    "## ANALYSIS ON FINAL DATASET"
   ]
  },
  {
   "cell_type": "code",
   "execution_count": 22,
   "metadata": {},
   "outputs": [
    {
     "data": {
      "text/plain": [
       "Category\n",
       "FAMILY                 18.932641\n",
       "GAME                    9.691978\n",
       "TOOLS                   8.450863\n",
       "BUSINESS                4.592125\n",
       "LIFESTYLE               3.915153\n",
       "PRODUCTIVITY            3.892587\n",
       "FINANCE                 3.700779\n",
       "MEDICAL                 3.520253\n",
       "SPORTS                  3.396141\n",
       "PERSONALIZATION         3.317161\n",
       "COMMUNICATION           3.238181\n",
       "HEALTH_AND_FITNESS      3.080221\n",
       "PHOTOGRAPHY             2.944827\n",
       "NEWS_AND_MAGAZINES      2.798150\n",
       "SOCIAL                  2.662755\n",
       "TRAVEL_AND_LOCAL        2.335552\n",
       "SHOPPING                2.245289\n",
       "BOOKS_AND_REFERENCE     2.143744\n",
       "DATING                  1.861672\n",
       "VIDEO_PLAYERS           1.793975\n",
       "MAPS_AND_NAVIGATION     1.399075\n",
       "FOOD_AND_DRINK          1.241115\n",
       "EDUCATION               1.173418\n",
       "ENTERTAINMENT           0.959043\n",
       "LIBRARIES_AND_DEMO      0.936477\n",
       "AUTO_AND_VEHICLES       0.925195\n",
       "HOUSE_AND_HOME          0.823649\n",
       "WEATHER                 0.801083\n",
       "EVENTS                  0.710820\n",
       "PARENTING               0.654406\n",
       "ART_AND_DESIGN          0.643123\n",
       "COMICS                  0.620557\n",
       "BEAUTY                  0.597992\n",
       "Name: proportion, dtype: float64"
      ]
     },
     "execution_count": 22,
     "metadata": {},
     "output_type": "execute_result"
    }
   ],
   "source": [
    "final_df[\"Category\"].value_counts (normalize=True)*100"
   ]
  },
  {
   "cell_type": "code",
   "execution_count": 23,
   "metadata": {},
   "outputs": [
    {
     "data": {
      "image/png": "[encoded data removed]",
      "text/plain": [
       "<Figure size 1000x600 with 1 Axes>"
      ]
     },
     "metadata": {},
     "output_type": "display_data"
    }
   ],
   "source": [
    "#Data\n",
    "categories = final_df[\"Category\"].value_counts().index[:15]\n",
    "counts = final_df[\"Category\"].value_counts().values[:15]\n",
    "percentage = round(final_df[\"Category\"].value_counts (normalize=True)*100,1)[:15]\n",
    "\n",
    "# Create stylish bar chart\n",
    "plt.figure(figsize=(10, 6))\n",
    "plt.grid(axis='y', linestyle='--', alpha=0.7,zorder=0)\n",
    "plt.grid(axis='x', linestyle='',zorder=1)\n",
    "bars = plt.bar(categories, counts, color=\"lightgray\", alpha=0.75, edgecolor=\"black\", linewidth=1.5,zorder=3)\n",
    "plt.xticks(rotation=90, fontsize=10)\n",
    "plt.yticks(fontsize=12)\n",
    "plt.xticks(fontsize=10) #Customized tick tubeis\n",
    "plt.yticks(range(0, 3000, 500),[], fontsize=12) # Customized tick labels and customised y-ticks range\n",
    "plt.tick_params(bottom = 0, left = 0)\n",
    "\n",
    "# Find the category with the highest count\n",
    "max_count_category = categories[counts.argmax()]\n",
    "\n",
    "#Highlight the bar for the category with the highest count\n",
    "max_count_index = list(categories).index(max_count_category)\n",
    "bars[max_count_index].set_color('salmon')\n",
    "bars[max_count_index].set_edgecolor('black')\n",
    "\n",
    "\n",
    "# Adding data Labels and percentages inside each bar\n",
    "for bar, perc in zip(bars, percentage):\n",
    "    height = bar.get_height()\n",
    "    plt.text(bar.get_x() + bar.get_width()/2, height + 20, \"%d\" % int(height), ha='center', va=\"bottom\", fontsize=10)\n",
    "    plt.text(bar.get_x() + bar.get_width()/2, height/2, f'{perc}%', ha='center', va='center', fontsize=10, color='black')\n",
    "\n",
    "\n",
    "#Adding a background color\n",
    "ax = plt.gca()\n",
    "ax.set_facecolor(\"#f7f7f7\")\n",
    "\n",
    "#Adding chart title inside the chart\n",
    "plt.text(0.5, 0.93, 'Top Android App Categories', horizontalalignment='center', fontsize=14, transform=plt.gca().transAxes,color=\"gray\", fontweight='bold')\n",
    "#Adding conclusion inside the chart I\n",
    "plt.text(0.5, 0.83, 'The \"FAMILY\" category stands out as the most prevalent among the top Android app categories, \\n showcasing a considerable demand for family-oriented applications.',horizontalalignment='center', fontsize=10, transform=plt.gca().transAxes, color='gray')\n",
    "\n",
    "#Remove spines\n",
    "for i in [\"top\",\"right\", \"left\"]:\n",
    "    plt.gca().spines[i].set_visible(False)\n",
    "plt.tight_layout() # Adjust Layout to prevent clipping\n",
    "plt.show()"
   ]
  },
  {
   "cell_type": "markdown",
   "metadata": {},
   "source": [
    "### Most Popular Apps by Genre on Google Play\n",
    "##### For the Google Play market, we actually have data about the number of installs, so we should be able to get a clearer picture about genre popularity. However, the Install numbers don't seem precise enough we can see that most values are open-ended (100+, 1,000+ 5,000+, etc.):"
   ]
  },
  {
   "cell_type": "code",
   "execution_count": 26,
   "metadata": {},
   "outputs": [
    {
     "data": {
      "text/plain": [
       "Installs\n",
       "1,000,000+        15.739592\n",
       "100,000+          11.553650\n",
       "10,000,000+       10.515627\n",
       "10,000+           10.199707\n",
       "1,000+             8.405732\n",
       "100+               6.916394\n",
       "5,000,000+         6.837414\n",
       "500,000+           5.573733\n",
       "50,000+            4.772650\n",
       "5,000+             4.513145\n",
       "10+                3.542818\n",
       "500+               3.249464\n",
       "50,000,000+        2.290421\n",
       "100,000,000+       2.121178\n",
       "50+                1.918086\n",
       "5+                 0.789800\n",
       "1+                 0.507729\n",
       "500,000,000+       0.270789\n",
       "1,000,000,000+     0.225657\n",
       "0+                 0.045131\n",
       "0                  0.011283\n",
       "Name: proportion, dtype: float64"
      ]
     },
     "execution_count": 26,
     "metadata": {},
     "output_type": "execute_result"
    }
   ],
   "source": [
    "final_df[\"Installs\"].value_counts(normalize = True)*100"
   ]
  },
  {
   "cell_type": "code",
   "execution_count": 30,
   "metadata": {},
   "outputs": [
    {
     "name": "stderr",
     "output_type": "stream",
     "text": [
      "C:\\Users\\Mushaf Mughal\\AppData\\Local\\Temp\\ipykernel_10408\\2851067211.py:1: SettingWithCopyWarning: \n",
      "A value is trying to be set on a copy of a slice from a DataFrame.\n",
      "Try using .loc[row_indexer,col_indexer] = value instead\n",
      "\n",
      "See the caveats in the documentation: https://pandas.pydata.org/pandas-docs/stable/user_guide/indexing.html#returning-a-view-versus-a-copy\n",
      "  final_df[\"Installs_int\"] = final_df[\"Installs\"].str.replace(\",\",\"\").str.replace(\"+\",\"\").astype(int)\n"
     ]
    }
   ],
   "source": [
    "final_df[\"Installs_int\"] = final_df[\"Installs\"].str.replace(\",\",\"\").str.replace(\"+\",\"\").astype(int)"
   ]
  },
  {
   "cell_type": "code",
   "execution_count": 59,
   "metadata": {},
   "outputs": [
    {
     "data": {
      "text/plain": [
       "Installs_int\n",
       "0                5\n",
       "1               45\n",
       "5               70\n",
       "10             314\n",
       "50             170\n",
       "100            613\n",
       "500            288\n",
       "1000           745\n",
       "5000           400\n",
       "10000          904\n",
       "50000          423\n",
       "100000        1024\n",
       "500000         494\n",
       "1000000       1395\n",
       "5000000        606\n",
       "10000000       932\n",
       "50000000       203\n",
       "100000000      188\n",
       "500000000       24\n",
       "1000000000      20\n",
       "Name: count, dtype: int64"
      ]
     },
     "execution_count": 59,
     "metadata": {},
     "output_type": "execute_result"
    }
   ],
   "source": [
    "final_df[\"Installs_int\"].value_counts().sort_index()"
   ]
  },
  {
   "cell_type": "markdown",
   "metadata": {},
   "source": [
    "#### Creating Function which will convert Installation Numbers into Alphanumeric Units and GIve us better image"
   ]
  },
  {
   "cell_type": "code",
   "execution_count": 60,
   "metadata": {},
   "outputs": [],
   "source": [
    "#alphanumeric units\n",
    "def alphanumeric_units(value):\n",
    "    if value >= 1e9:\n",
    "        return f'{value / 1e9:.0f}B'\n",
    "    elif value >= 1e6:\n",
    "        return f'{value / 1e6:.0f}M'\n",
    "    elif value >= 1e3:\n",
    "        return f'{value / 1e3:.0f}K'\n",
    "    else:\n",
    "        return f'{value:.0f}'"
   ]
  },
  {
   "cell_type": "code",
   "execution_count": 61,
   "metadata": {},
   "outputs": [
    {
     "data": {
      "text/plain": [
       "Installs_int\n",
       "1K       745\n",
       "5K       400\n",
       "10K      904\n",
       "50K      423\n",
       "100K    1024\n",
       "500K     494\n",
       "1M      1395\n",
       "5M       606\n",
       "10M      932\n",
       "50M      203\n",
       "100M     188\n",
       "500M      24\n",
       "1B        20\n",
       "Name: count, dtype: int64"
      ]
     },
     "execution_count": 61,
     "metadata": {},
     "output_type": "execute_result"
    }
   ],
   "source": [
    "install_frq = final_df[\"Installs_int\"].value_counts().sort_index()\n",
    "install_frq = install_frq[install_frq.index > 500]\n",
    "install_frq.index = install_frq.index.map(alphanumeric_units)\n",
    "install_frq"
   ]
  },
  {
   "cell_type": "code",
   "execution_count": 62,
   "metadata": {},
   "outputs": [
    {
     "data": {
      "text/plain": [
       "Installs_int\n",
       "1K       8.41\n",
       "5K       4.51\n",
       "10K     10.20\n",
       "50K      4.77\n",
       "100K    11.55\n",
       "500K     5.57\n",
       "1M      15.74\n",
       "5M       6.84\n",
       "10M     10.52\n",
       "50M      2.29\n",
       "100M     2.12\n",
       "500M     0.27\n",
       "1B       0.23\n",
       "Name: proportion, dtype: float64"
      ]
     },
     "execution_count": 62,
     "metadata": {},
     "output_type": "execute_result"
    }
   ],
   "source": [
    "install_frq_per = round(final_df[\"Installs_int\"].value_counts (normalize=True)*100,2).sort_index()\n",
    "install_frq_per = install_frq_per[install_frq_per.index > 500]\n",
    "install_frq_per.index = install_frq_per.index.map(alphanumeric_units)\n",
    "\n",
    "install_frq_per"
   ]
  },
  {
   "cell_type": "markdown",
   "metadata": {},
   "source": [
    "## Visualizing it into Bar Graph"
   ]
  },
  {
   "cell_type": "code",
   "execution_count": 159,
   "metadata": {},
   "outputs": [
    {
     "data": {
      "image/png": "[encoded data removed]",
      "text/plain": [
       "<Figure size 1100x700 with 1 Axes>"
      ]
     },
     "metadata": {},
     "output_type": "display_data"
    }
   ],
   "source": [
    "#Data\n",
    "categories = install_frq.index\n",
    "counts = install_frq.values\n",
    "percentage = install_frq_per.values\n",
    "\n",
    "# Create stylish bar chart\n",
    "plt.figure(figsize=(11, 7))\n",
    "plt.grid(axis='y', linestyle='--', alpha=0.7,zorder=0)\n",
    "plt.grid(axis='x', linestyle='',zorder=1)\n",
    "bars = plt.bar(categories, counts, color=\"lightgray\", alpha=0.75, edgecolor=\"black\", linewidth=1.5,zorder=3)\n",
    "plt.xticks(rotation=90, fontsize=10)\n",
    "plt.yticks(fontsize=12)\n",
    "plt.xticks(fontsize=10) #Customized tick tubeis\n",
    "plt.yticks(range(0, 2100, 500),[], fontsize=12) # Customized tick labels and customised y-ticks range\n",
    "plt.tick_params(bottom = 0, left = 0)\n",
    "\n",
    "# Find the category with the highest count\n",
    "max_count_category = categories[counts.argmax()]\n",
    "\n",
    "#Highlight the bar for the category with the highest count\n",
    "max_count_index = list(categories).index(max_count_category)\n",
    "bars[max_count_index].set_color('salmon')\n",
    "bars[max_count_index].set_edgecolor('black')\n",
    "\n",
    "\n",
    "# Adding data Labels and percentages inside each bar\n",
    "for bar, perc in zip(bars, percentage):\n",
    "    height = bar.get_height()\n",
    "    plt.text(bar.get_x() + bar.get_width()/2, height + 20, \"%d\" % int(height), ha='center', va=\"bottom\", fontsize=10)\n",
    "    plt.text(bar.get_x() + bar.get_width()/2, height/2, f'{perc}%', ha='center', va='center', fontsize=10, color='black')\n",
    "\n",
    "\n",
    "#Adding a background color\n",
    "ax = plt.gca()\n",
    "ax.set_facecolor(\"#f7f7f7\")\n",
    "\n",
    "#Adding chart title inside the chart\n",
    "plt.text(0.5, 0.89, 'Distribution of App Installations', horizontalalignment='center', fontsize=14, transform=plt.gca().transAxes,color=\"gray\", fontweight='bold')\n",
    "#Adding conclusion inside the chart I\n",
    "plt.text(0.5, -0.3, '''From the data provided, it's evident that the majority of Android app installs fall within the lower range,\\nwith the highest number of installs being in the 1K to 10M range.\\nSpecifically, the 1M install range stands out with 1395 apps, indicating a significant number of apps falling into this category.\\nAs the number of installs increases, the count of apps decreases,\\nwith only a few apps reaching install counts of 500M and 1B.''',horizontalalignment='center', fontsize=11, transform=plt.gca().transAxes, color='gray')\n",
    "\n",
    "#Remove spines\n",
    "for i in [\"top\",\"right\", \"left\"]:\n",
    "    plt.gca().spines[i].set_visible(False)\n",
    "plt.tight_layout() # Adjust Layout to prevent clipping\n",
    "plt.show()"
   ]
  },
  {
   "cell_type": "markdown",
   "metadata": {},
   "source": [
    "### Diving in Apps Categories"
   ]
  },
  {
   "cell_type": "code",
   "execution_count": 87,
   "metadata": {},
   "outputs": [
    {
     "data": {
      "text/plain": [
       "array(['ART_AND_DESIGN', 'AUTO_AND_VEHICLES', 'BEAUTY',\n",
       "       'BOOKS_AND_REFERENCE', 'BUSINESS', 'COMICS', 'COMMUNICATION',\n",
       "       'DATING', 'EDUCATION', 'ENTERTAINMENT', 'EVENTS', 'FINANCE',\n",
       "       'FOOD_AND_DRINK', 'HEALTH_AND_FITNESS', 'HOUSE_AND_HOME',\n",
       "       'LIBRARIES_AND_DEMO', 'LIFESTYLE', 'GAME', 'FAMILY', 'MEDICAL',\n",
       "       'SOCIAL', 'SHOPPING', 'PHOTOGRAPHY', 'SPORTS', 'TRAVEL_AND_LOCAL',\n",
       "       'TOOLS', 'PERSONALIZATION', 'PRODUCTIVITY', 'PARENTING', 'WEATHER',\n",
       "       'VIDEO_PLAYERS', 'NEWS_AND_MAGAZINES', 'MAPS_AND_NAVIGATION'],\n",
       "      dtype=object)"
      ]
     },
     "execution_count": 87,
     "metadata": {},
     "output_type": "execute_result"
    }
   ],
   "source": [
    "apps_categories = final_df['Category'].unique()\n",
    "apps_categories"
   ]
  },
  {
   "cell_type": "code",
   "execution_count": 97,
   "metadata": {},
   "outputs": [
    {
     "data": {
      "text/plain": [
       "Category\n",
       "COMMUNICATION         38456119\n",
       "VIDEO_PLAYERS         24727872\n",
       "SOCIAL                23253652\n",
       "PHOTOGRAPHY           17805628\n",
       "PRODUCTIVITY          16787331\n",
       "GAME                  15560966\n",
       "TRAVEL_AND_LOCAL      13984078\n",
       "ENTERTAINMENT         11640706\n",
       "TOOLS                 10682301\n",
       "NEWS_AND_MAGAZINES     9549178\n",
       "BOOKS_AND_REFERENCE    8767812\n",
       "SHOPPING               7036877\n",
       "PERSONALIZATION        5201483\n",
       "WEATHER                5074486\n",
       "HEALTH_AND_FITNESS     4188822\n",
       "MAPS_AND_NAVIGATION    4056942\n",
       "FAMILY                 3694276\n",
       "SPORTS                 3638640\n",
       "ART_AND_DESIGN         1986335\n",
       "FOOD_AND_DRINK         1924898\n",
       "EDUCATION              1820673\n",
       "BUSINESS               1712290\n",
       "LIFESTYLE              1433676\n",
       "FINANCE                1387692\n",
       "HOUSE_AND_HOME         1331541\n",
       "DATING                  854029\n",
       "COMICS                  817657\n",
       "AUTO_AND_VEHICLES       647318\n",
       "LIBRARIES_AND_DEMO      638504\n",
       "PARENTING               542604\n",
       "BEAUTY                  513152\n",
       "EVENTS                  253542\n",
       "MEDICAL                 120616\n",
       "Name: Installs_int, dtype: float64"
      ]
     },
     "execution_count": 97,
     "metadata": {},
     "output_type": "execute_result"
    }
   ],
   "source": [
    "#Display Dataframe without scientific notation\n",
    "pd.options.display.float_format = '{:.0f}'.format\n",
    "\n",
    "cat_install = pd.pivot_table(final_df,values='Installs_int',index='Category',aggfunc= 'mean')\n",
    "cat_install = cat_install.sort_values(by= 'Installs_int',ascending=False)\n",
    "cat_install = cat_install[\"Installs_int\"]\n",
    "cat_install"
   ]
  },
  {
   "cell_type": "code",
   "execution_count": 98,
   "metadata": {},
   "outputs": [],
   "source": [
    "#alphanumeric units\n",
    "def alphanumeric_unit(value):\n",
    "    if value >= 1e9:\n",
    "        return f'{value / 1e9:.1f}B'\n",
    "    elif value >= 1e6:\n",
    "        return f'{value / 1e6:.1f}M'\n",
    "    elif value >= 1e3:\n",
    "        return f'{value / 1e3:.1f}K'\n",
    "    else:\n",
    "        return f'{value:.1f}'"
   ]
  },
  {
   "cell_type": "code",
   "execution_count": 111,
   "metadata": {},
   "outputs": [
    {
     "data": {
      "text/plain": [
       "Category\n",
       "COMMUNICATION           38.5M\n",
       "VIDEO_PLAYERS           24.7M\n",
       "SOCIAL                  23.3M\n",
       "PHOTOGRAPHY             17.8M\n",
       "PRODUCTIVITY            16.8M\n",
       "GAME                    15.6M\n",
       "TRAVEL_AND_LOCAL        14.0M\n",
       "ENTERTAINMENT           11.6M\n",
       "TOOLS                   10.7M\n",
       "NEWS_AND_MAGAZINES       9.5M\n",
       "BOOKS_AND_REFERENCE      8.8M\n",
       "SHOPPING                 7.0M\n",
       "PERSONALIZATION          5.2M\n",
       "WEATHER                  5.1M\n",
       "HEALTH_AND_FITNESS       4.2M\n",
       "MAPS_AND_NAVIGATION      4.1M\n",
       "FAMILY                   3.7M\n",
       "SPORTS                   3.6M\n",
       "ART_AND_DESIGN           2.0M\n",
       "FOOD_AND_DRINK           1.9M\n",
       "EDUCATION                1.8M\n",
       "BUSINESS                 1.7M\n",
       "LIFESTYLE                1.4M\n",
       "FINANCE                  1.4M\n",
       "HOUSE_AND_HOME           1.3M\n",
       "DATING                 854.0K\n",
       "COMICS                 817.7K\n",
       "AUTO_AND_VEHICLES      647.3K\n",
       "LIBRARIES_AND_DEMO     638.5K\n",
       "PARENTING              542.6K\n",
       "BEAUTY                 513.2K\n",
       "EVENTS                 253.5K\n",
       "MEDICAL                120.6K\n",
       "Name: Installs_int, dtype: object"
      ]
     },
     "execution_count": 111,
     "metadata": {},
     "output_type": "execute_result"
    }
   ],
   "source": [
    "cat_install_unit = cat_install.map(alphanumeric_unit)\n",
    "cat_install_unit"
   ]
  },
  {
   "cell_type": "code",
   "execution_count": 155,
   "metadata": {},
   "outputs": [
    {
     "data": {
      "image/png": "[encoded data removed]",
      "text/plain": [
       "<Figure size 1000x450 with 1 Axes>"
      ]
     },
     "metadata": {},
     "output_type": "display_data"
    }
   ],
   "source": [
    "#Data\n",
    "categories = cat_install.index[:15]\n",
    "counts = cat_install.values[:15]\n",
    "\n",
    "# Create stylish bar chart\n",
    "plt.figure(figsize=(10, 4.5))\n",
    "plt.grid(axis='y', linestyle='--', alpha=0.7,zorder=0)\n",
    "plt.grid(axis='x', linestyle='',zorder=1)\n",
    "bars = plt.bar(categories, counts, color=\"lightgray\", alpha=0.75, edgecolor=\"black\", linewidth=1.5,zorder=3)\n",
    "plt.xticks(rotation=90)\n",
    "plt.yticks(fontsize=12)\n",
    "plt.xticks(fontsize=9) #Customized tick tubeis\n",
    "plt.yticks(range(0, 60000000, 10000000),[], fontsize=12) # Customized tick labels and customised y-ticks range\n",
    "plt.tick_params(bottom = 0, left = 0)\n",
    "\n",
    "# Find the category with the highest count\n",
    "max_count_category = categories[counts.argmax()]\n",
    "\n",
    "#Highlight the bar for the category with the highest count\n",
    "max_count_index = list(categories).index(max_count_category)\n",
    "bars[max_count_index].set_color('salmon')\n",
    "bars[max_count_index].set_edgecolor('black')\n",
    "\n",
    "\n",
    "# Adding data Labels and percentages inside each bar\n",
    "for bar, units in zip(bars, cat_install_unit.values):\n",
    "    height = bar.get_height()\n",
    "    plt.text(bar.get_x() + bar.get_width()/2, height/2, f'{units}', ha='center', va='center', fontsize=10, color='black')\n",
    "\n",
    "\n",
    "#Adding a background color\n",
    "ax = plt.gca()\n",
    "ax.set_facecolor(\"#f7f7f7\")\n",
    "\n",
    "#Adding chart title inside the chart\n",
    "plt.text(0.5, 0.868, 'Distribution of App Installations with respect to CATEGORY', horizontalalignment='center', fontsize=15, transform=plt.gca().transAxes,color=\"gray\", fontweight='bold')\n",
    "#Adding conclusion inside the chart I\n",
    "#plt.text(0.5, -0.3, '''From the data provided, it's evident that the majority of Android app installs fall within the lower range,\\nwith the highest number of installs being in the 1K to 10M range.\\nSpecifically, the 1M install range stands out with 1395 apps, indicating a significant number of apps falling into this category.\\nAs the number of installs increases, the count of apps decreases,\\nwith only a few apps reaching install counts of 500M and 1B.''',horizontalalignment='center', fontsize=11, transform=plt.gca().transAxes, color='gray')\n",
    "\n",
    "#Remove spines\n",
    "for i in [\"top\",\"right\", \"left\"]:\n",
    "    plt.gca().spines[i].set_visible(False)\n",
    "plt.tight_layout() # Adjust Layout to prevent clipping\n",
    "plt.show()"
   ]
  },
  {
   "cell_type": "code",
   "execution_count": 160,
   "metadata": {},
   "outputs": [],
   "source": [
    "category_group = final_df.groupby(\"Category\")"
   ]
  },
  {
   "cell_type": "code",
   "execution_count": 172,
   "metadata": {},
   "outputs": [
    {
     "data": {
      "text/html": [
       "<div>\n",
       "<style scoped>\n",
       "    .dataframe tbody tr th:only-of-type {\n",
       "        vertical-align: middle;\n",
       "    }\n",
       "\n",
       "    .dataframe tbody tr th {\n",
       "        vertical-align: top;\n",
       "    }\n",
       "\n",
       "    .dataframe thead th {\n",
       "        text-align: right;\n",
       "    }\n",
       "</style>\n",
       "<table border=\"1\" class=\"dataframe\">\n",
       "  <thead>\n",
       "    <tr style=\"text-align: right;\">\n",
       "      <th></th>\n",
       "      <th>App</th>\n",
       "      <th>Installs_int</th>\n",
       "      <th>Installs_Unit</th>\n",
       "    </tr>\n",
       "  </thead>\n",
       "  <tbody>\n",
       "    <tr>\n",
       "      <th>336</th>\n",
       "      <td>WhatsApp Messenger</td>\n",
       "      <td>1000000000</td>\n",
       "      <td>1B</td>\n",
       "    </tr>\n",
       "    <tr>\n",
       "      <th>382</th>\n",
       "      <td>Messenger – Text and Video Chat for Free</td>\n",
       "      <td>1000000000</td>\n",
       "      <td>1B</td>\n",
       "    </tr>\n",
       "    <tr>\n",
       "      <th>464</th>\n",
       "      <td>Hangouts</td>\n",
       "      <td>1000000000</td>\n",
       "      <td>1B</td>\n",
       "    </tr>\n",
       "    <tr>\n",
       "      <th>411</th>\n",
       "      <td>Google Chrome: Fast &amp; Secure</td>\n",
       "      <td>1000000000</td>\n",
       "      <td>1B</td>\n",
       "    </tr>\n",
       "    <tr>\n",
       "      <th>391</th>\n",
       "      <td>Skype - free IM &amp; video calls</td>\n",
       "      <td>1000000000</td>\n",
       "      <td>1B</td>\n",
       "    </tr>\n",
       "    <tr>\n",
       "      <th>451</th>\n",
       "      <td>Gmail</td>\n",
       "      <td>1000000000</td>\n",
       "      <td>1B</td>\n",
       "    </tr>\n",
       "    <tr>\n",
       "      <th>403</th>\n",
       "      <td>LINE: Free Calls &amp; Messages</td>\n",
       "      <td>500000000</td>\n",
       "      <td>500M</td>\n",
       "    </tr>\n",
       "    <tr>\n",
       "      <th>4676</th>\n",
       "      <td>Viber Messenger</td>\n",
       "      <td>500000000</td>\n",
       "      <td>500M</td>\n",
       "    </tr>\n",
       "    <tr>\n",
       "      <th>420</th>\n",
       "      <td>UC Browser - Fast Download Private &amp; Secure</td>\n",
       "      <td>500000000</td>\n",
       "      <td>500M</td>\n",
       "    </tr>\n",
       "    <tr>\n",
       "      <th>371</th>\n",
       "      <td>Google Duo - High Quality Video Calls</td>\n",
       "      <td>500000000</td>\n",
       "      <td>500M</td>\n",
       "    </tr>\n",
       "  </tbody>\n",
       "</table>\n",
       "</div>"
      ],
      "text/plain": [
       "                                              App  Installs_int Installs_Unit\n",
       "336                            WhatsApp Messenger    1000000000            1B\n",
       "382      Messenger – Text and Video Chat for Free    1000000000            1B\n",
       "464                                      Hangouts    1000000000            1B\n",
       "411                  Google Chrome: Fast & Secure    1000000000            1B\n",
       "391                 Skype - free IM & video calls    1000000000            1B\n",
       "451                                         Gmail    1000000000            1B\n",
       "403                   LINE: Free Calls & Messages     500000000          500M\n",
       "4676                              Viber Messenger     500000000          500M\n",
       "420   UC Browser - Fast Download Private & Secure     500000000          500M\n",
       "371         Google Duo - High Quality Video Calls     500000000          500M"
      ]
     },
     "execution_count": 172,
     "metadata": {},
     "output_type": "execute_result"
    }
   ],
   "source": [
    "df = category_group.get_group(\"COMMUNICATION\").sort_values(by= \"Installs_int\" , ascending= False)\n",
    "df = df[['App','Installs_int']]\n",
    "df['Installs_Unit'] = df['Installs_int'].map(alphanumeric_units)\n",
    "df.head(10)"
   ]
  },
  {
   "cell_type": "code",
   "execution_count": 173,
   "metadata": {},
   "outputs": [
    {
     "data": {
      "text/html": [
       "<div>\n",
       "<style scoped>\n",
       "    .dataframe tbody tr th:only-of-type {\n",
       "        vertical-align: middle;\n",
       "    }\n",
       "\n",
       "    .dataframe tbody tr th {\n",
       "        vertical-align: top;\n",
       "    }\n",
       "\n",
       "    .dataframe thead th {\n",
       "        text-align: right;\n",
       "    }\n",
       "</style>\n",
       "<table border=\"1\" class=\"dataframe\">\n",
       "  <thead>\n",
       "    <tr style=\"text-align: right;\">\n",
       "      <th></th>\n",
       "      <th>App</th>\n",
       "      <th>Installs_int</th>\n",
       "      <th>Installs_Unit</th>\n",
       "    </tr>\n",
       "  </thead>\n",
       "  <tbody>\n",
       "    <tr>\n",
       "      <th>3665</th>\n",
       "      <td>YouTube</td>\n",
       "      <td>1000000000</td>\n",
       "      <td>1B</td>\n",
       "    </tr>\n",
       "    <tr>\n",
       "      <th>3687</th>\n",
       "      <td>Google Play Movies &amp; TV</td>\n",
       "      <td>1000000000</td>\n",
       "      <td>1B</td>\n",
       "    </tr>\n",
       "    <tr>\n",
       "      <th>3711</th>\n",
       "      <td>MX Player</td>\n",
       "      <td>500000000</td>\n",
       "      <td>500M</td>\n",
       "    </tr>\n",
       "    <tr>\n",
       "      <th>3675</th>\n",
       "      <td>VLC for Android</td>\n",
       "      <td>100000000</td>\n",
       "      <td>100M</td>\n",
       "    </tr>\n",
       "    <tr>\n",
       "      <th>4688</th>\n",
       "      <td>VivaVideo - Video Editor &amp; Photo Movie</td>\n",
       "      <td>100000000</td>\n",
       "      <td>100M</td>\n",
       "    </tr>\n",
       "    <tr>\n",
       "      <th>4032</th>\n",
       "      <td>Dubsmash</td>\n",
       "      <td>100000000</td>\n",
       "      <td>100M</td>\n",
       "    </tr>\n",
       "    <tr>\n",
       "      <th>10647</th>\n",
       "      <td>Motorola FM Radio</td>\n",
       "      <td>100000000</td>\n",
       "      <td>100M</td>\n",
       "    </tr>\n",
       "    <tr>\n",
       "      <th>4696</th>\n",
       "      <td>VideoShow-Video Editor, Video Maker, Beauty Ca...</td>\n",
       "      <td>100000000</td>\n",
       "      <td>100M</td>\n",
       "    </tr>\n",
       "    <tr>\n",
       "      <th>3672</th>\n",
       "      <td>Motorola Gallery</td>\n",
       "      <td>100000000</td>\n",
       "      <td>100M</td>\n",
       "    </tr>\n",
       "    <tr>\n",
       "      <th>3691</th>\n",
       "      <td>Samsung Video Library</td>\n",
       "      <td>50000000</td>\n",
       "      <td>50M</td>\n",
       "    </tr>\n",
       "  </tbody>\n",
       "</table>\n",
       "</div>"
      ],
      "text/plain": [
       "                                                     App  Installs_int   \n",
       "3665                                             YouTube    1000000000  \\\n",
       "3687                             Google Play Movies & TV    1000000000   \n",
       "3711                                           MX Player     500000000   \n",
       "3675                                     VLC for Android     100000000   \n",
       "4688              VivaVideo - Video Editor & Photo Movie     100000000   \n",
       "4032                                            Dubsmash     100000000   \n",
       "10647                                  Motorola FM Radio     100000000   \n",
       "4696   VideoShow-Video Editor, Video Maker, Beauty Ca...     100000000   \n",
       "3672                                    Motorola Gallery     100000000   \n",
       "3691                               Samsung Video Library      50000000   \n",
       "\n",
       "      Installs_Unit  \n",
       "3665             1B  \n",
       "3687             1B  \n",
       "3711           500M  \n",
       "3675           100M  \n",
       "4688           100M  \n",
       "4032           100M  \n",
       "10647          100M  \n",
       "4696           100M  \n",
       "3672           100M  \n",
       "3691            50M  "
      ]
     },
     "execution_count": 173,
     "metadata": {},
     "output_type": "execute_result"
    }
   ],
   "source": [
    "df = category_group.get_group(\"VIDEO_PLAYERS\").sort_values(by= \"Installs_int\" , ascending= False)\n",
    "df = df[['App','Installs_int']]\n",
    "df['Installs_Unit'] = df['Installs_int'].map(alphanumeric_units)\n",
    "df.head(10)"
   ]
  },
  {
   "cell_type": "code",
   "execution_count": 174,
   "metadata": {},
   "outputs": [
    {
     "data": {
      "text/html": [
       "<div>\n",
       "<style scoped>\n",
       "    .dataframe tbody tr th:only-of-type {\n",
       "        vertical-align: middle;\n",
       "    }\n",
       "\n",
       "    .dataframe tbody tr th {\n",
       "        vertical-align: top;\n",
       "    }\n",
       "\n",
       "    .dataframe thead th {\n",
       "        text-align: right;\n",
       "    }\n",
       "</style>\n",
       "<table border=\"1\" class=\"dataframe\">\n",
       "  <thead>\n",
       "    <tr style=\"text-align: right;\">\n",
       "      <th></th>\n",
       "      <th>App</th>\n",
       "      <th>Installs_int</th>\n",
       "      <th>Installs_Unit</th>\n",
       "    </tr>\n",
       "  </thead>\n",
       "  <tbody>\n",
       "    <tr>\n",
       "      <th>2544</th>\n",
       "      <td>Facebook</td>\n",
       "      <td>1000000000</td>\n",
       "      <td>1B</td>\n",
       "    </tr>\n",
       "    <tr>\n",
       "      <th>2554</th>\n",
       "      <td>Google+</td>\n",
       "      <td>1000000000</td>\n",
       "      <td>1B</td>\n",
       "    </tr>\n",
       "    <tr>\n",
       "      <th>2604</th>\n",
       "      <td>Instagram</td>\n",
       "      <td>1000000000</td>\n",
       "      <td>1B</td>\n",
       "    </tr>\n",
       "    <tr>\n",
       "      <th>2610</th>\n",
       "      <td>Snapchat</td>\n",
       "      <td>500000000</td>\n",
       "      <td>500M</td>\n",
       "    </tr>\n",
       "    <tr>\n",
       "      <th>2546</th>\n",
       "      <td>Facebook Lite</td>\n",
       "      <td>500000000</td>\n",
       "      <td>500M</td>\n",
       "    </tr>\n",
       "    <tr>\n",
       "      <th>3945</th>\n",
       "      <td>Tik Tok - including musical.ly</td>\n",
       "      <td>100000000</td>\n",
       "      <td>100M</td>\n",
       "    </tr>\n",
       "    <tr>\n",
       "      <th>2592</th>\n",
       "      <td>Tango - Live Video Broadcast</td>\n",
       "      <td>100000000</td>\n",
       "      <td>100M</td>\n",
       "    </tr>\n",
       "    <tr>\n",
       "      <th>6373</th>\n",
       "      <td>VK</td>\n",
       "      <td>100000000</td>\n",
       "      <td>100M</td>\n",
       "    </tr>\n",
       "    <tr>\n",
       "      <th>2552</th>\n",
       "      <td>Pinterest</td>\n",
       "      <td>100000000</td>\n",
       "      <td>100M</td>\n",
       "    </tr>\n",
       "    <tr>\n",
       "      <th>3951</th>\n",
       "      <td>BIGO LIVE - Live Stream</td>\n",
       "      <td>100000000</td>\n",
       "      <td>100M</td>\n",
       "    </tr>\n",
       "  </tbody>\n",
       "</table>\n",
       "</div>"
      ],
      "text/plain": [
       "                                 App  Installs_int Installs_Unit\n",
       "2544                        Facebook    1000000000            1B\n",
       "2554                         Google+    1000000000            1B\n",
       "2604                       Instagram    1000000000            1B\n",
       "2610                        Snapchat     500000000          500M\n",
       "2546                   Facebook Lite     500000000          500M\n",
       "3945  Tik Tok - including musical.ly     100000000          100M\n",
       "2592    Tango - Live Video Broadcast     100000000          100M\n",
       "6373                              VK     100000000          100M\n",
       "2552                       Pinterest     100000000          100M\n",
       "3951         BIGO LIVE - Live Stream     100000000          100M"
      ]
     },
     "execution_count": 174,
     "metadata": {},
     "output_type": "execute_result"
    }
   ],
   "source": [
    "df = category_group.get_group(\"SOCIAL\").sort_values(by= \"Installs_int\" , ascending= False)\n",
    "df = df[['App','Installs_int']]\n",
    "df['Installs_Unit'] = df['Installs_int'].map(alphanumeric_units)\n",
    "df.head(10)"
   ]
  },
  {
   "cell_type": "markdown",
   "metadata": {},
   "source": [
    "#### Stay away from the top three categories: COMMUNICATION, VIDEO PLAYERS, and SOCIAL. \n",
    "Big companies like WhatsApp, Messenger, YouTube, Google Play Movies & TV, Instagram, Facebook, and Snapchat already dominate these areas. Instead, we'll focus on other sectors where we can stand out and offer something new. This way, we can avoid competing directly with these giants and find our own niche for success."
   ]
  },
  {
   "cell_type": "code",
   "execution_count": 175,
   "metadata": {},
   "outputs": [
    {
     "data": {
      "text/html": [
       "<div>\n",
       "<style scoped>\n",
       "    .dataframe tbody tr th:only-of-type {\n",
       "        vertical-align: middle;\n",
       "    }\n",
       "\n",
       "    .dataframe tbody tr th {\n",
       "        vertical-align: top;\n",
       "    }\n",
       "\n",
       "    .dataframe thead th {\n",
       "        text-align: right;\n",
       "    }\n",
       "</style>\n",
       "<table border=\"1\" class=\"dataframe\">\n",
       "  <thead>\n",
       "    <tr style=\"text-align: right;\">\n",
       "      <th></th>\n",
       "      <th>App</th>\n",
       "      <th>Installs_int</th>\n",
       "      <th>Installs_Unit</th>\n",
       "    </tr>\n",
       "  </thead>\n",
       "  <tbody>\n",
       "    <tr>\n",
       "      <th>2884</th>\n",
       "      <td>Google Photos</td>\n",
       "      <td>1000000000</td>\n",
       "      <td>1B</td>\n",
       "    </tr>\n",
       "    <tr>\n",
       "      <th>4574</th>\n",
       "      <td>S Photo Editor - Collage Maker , Photo Collage</td>\n",
       "      <td>100000000</td>\n",
       "      <td>100M</td>\n",
       "    </tr>\n",
       "    <tr>\n",
       "      <th>2949</th>\n",
       "      <td>Camera360: Selfie Photo Editor with Funny Sticker</td>\n",
       "      <td>100000000</td>\n",
       "      <td>100M</td>\n",
       "    </tr>\n",
       "    <tr>\n",
       "      <th>2908</th>\n",
       "      <td>Retrica</td>\n",
       "      <td>100000000</td>\n",
       "      <td>100M</td>\n",
       "    </tr>\n",
       "    <tr>\n",
       "      <th>8307</th>\n",
       "      <td>LINE Camera - Photo editor</td>\n",
       "      <td>100000000</td>\n",
       "      <td>100M</td>\n",
       "    </tr>\n",
       "    <tr>\n",
       "      <th>2921</th>\n",
       "      <td>Photo Editor Pro</td>\n",
       "      <td>100000000</td>\n",
       "      <td>100M</td>\n",
       "    </tr>\n",
       "    <tr>\n",
       "      <th>2847</th>\n",
       "      <td>Sweet Selfie - selfie camera, beauty cam, phot...</td>\n",
       "      <td>100000000</td>\n",
       "      <td>100M</td>\n",
       "    </tr>\n",
       "    <tr>\n",
       "      <th>2937</th>\n",
       "      <td>BeautyPlus - Easy Photo Editor &amp; Selfie Camera</td>\n",
       "      <td>100000000</td>\n",
       "      <td>100M</td>\n",
       "    </tr>\n",
       "    <tr>\n",
       "      <th>2938</th>\n",
       "      <td>PicsArt Photo Studio: Collage Maker &amp; Pic Editor</td>\n",
       "      <td>100000000</td>\n",
       "      <td>100M</td>\n",
       "    </tr>\n",
       "    <tr>\n",
       "      <th>5057</th>\n",
       "      <td>AR effect</td>\n",
       "      <td>100000000</td>\n",
       "      <td>100M</td>\n",
       "    </tr>\n",
       "  </tbody>\n",
       "</table>\n",
       "</div>"
      ],
      "text/plain": [
       "                                                    App  Installs_int   \n",
       "2884                                      Google Photos    1000000000  \\\n",
       "4574     S Photo Editor - Collage Maker , Photo Collage     100000000   \n",
       "2949  Camera360: Selfie Photo Editor with Funny Sticker     100000000   \n",
       "2908                                            Retrica     100000000   \n",
       "8307                         LINE Camera - Photo editor     100000000   \n",
       "2921                                   Photo Editor Pro     100000000   \n",
       "2847  Sweet Selfie - selfie camera, beauty cam, phot...     100000000   \n",
       "2937     BeautyPlus - Easy Photo Editor & Selfie Camera     100000000   \n",
       "2938   PicsArt Photo Studio: Collage Maker & Pic Editor     100000000   \n",
       "5057                                          AR effect     100000000   \n",
       "\n",
       "     Installs_Unit  \n",
       "2884            1B  \n",
       "4574          100M  \n",
       "2949          100M  \n",
       "2908          100M  \n",
       "8307          100M  \n",
       "2921          100M  \n",
       "2847          100M  \n",
       "2937          100M  \n",
       "2938          100M  \n",
       "5057          100M  "
      ]
     },
     "execution_count": 175,
     "metadata": {},
     "output_type": "execute_result"
    }
   ],
   "source": [
    "df = category_group.get_group(\"PHOTOGRAPHY\").sort_values(by= \"Installs_int\" , ascending= False)\n",
    "df = df[['App','Installs_int']]\n",
    "df['Installs_Unit'] = df['Installs_int'].map(alphanumeric_units)\n",
    "df.head(10)"
   ]
  },
  {
   "cell_type": "markdown",
   "metadata": {},
   "source": [
    "### Analysis of Photography Category and Potential for Photo Generation App in 2024\n",
    "\n",
    "#### Conclusion\n",
    "\n",
    "The analysis of the photography category reveals a notable trend in the popularity of photo editing and collage-making applications, with several apps\n",
    "garnering over 100 million installs. This indicates a strong demand for photo-related functionalities among users.\n",
    "\n",
    "Given his observation, there appears to be significant potential for the development of a photo generation application in 2024, Such an app, offering prompt and free generation of pictures and photos, could capitalize on the existing user interest in photography apps. By providing innovative features, easy usability, and high-quality output, this application could stand out in the competitive market and attract a large user base.\n",
    "\n",
    "Considering the success of existing photography apps and the evolving preferences of users, investing in the development of a photo generation app seems promising for tapping into this lucrative market segment in 2024."
   ]
  },
  {
   "cell_type": "code",
   "execution_count": null,
   "metadata": {},
   "outputs": [],
   "source": []
  }
 ],
 "metadata": {
  "kernelspec": {
   "display_name": "Python 3",
   "language": "python",
   "name": "python3"
  },
  "language_info": {
   "codemirror_mode": {
    "name": "ipython",
    "version": 3
   },
   "file_extension": ".py",
   "mimetype": "text/x-python",
   "name": "python",
   "nbconvert_exporter": "python",
   "pygments_lexer": "ipython3",
   "version": "3.11.1"
  }
 },
 "nbformat": 4,
 "nbformat_minor": 2
}
